{
 "cells": [
  {
   "cell_type": "code",
   "execution_count": null,
   "id": "5c31281f",
   "metadata": {},
   "outputs": [],
   "source": [
    "import os\n",
    "import uuid\n",
    "import hashlib\n",
    "from urllib.parse import urlencode\n",
    "import requests\n",
    "from pprint import pprint\n",
    "import jwt\n"
   ]
  },
  {
   "cell_type": "code",
   "execution_count": null,
   "id": "6ce64347",
   "metadata": {},
   "outputs": [],
   "source": [
    "ACCESS_KEY = 'your access key'\n",
    "SECRET_KEY = 'your secret key'\n",
    "SERVER_URL = 'https://api.upbit.com'"
   ]
  },
  {
   "cell_type": "code",
   "execution_count": null,
   "id": "5c446d2b",
   "metadata": {},
   "outputs": [],
   "source": [
    "def getAskPrice(coin):\n",
    "    queryString = {\"markets\":\"KRW-\"+coin}\n",
    "    headers = {\"Accept\": \"application/json\"}\n",
    "\n",
    "    response = requests.request(\"GET\", SERVER_URL+'/v1/orderbook', headers=headers, params=queryString)\n",
    "\n",
    "    HTTP_OK = 200\n",
    "    if response.status_code == HTTP_OK:\n",
    "        pprint(response.json())\n",
    "        orderBookUnits = response.json()[0]['orderbook_units']\n",
    "        askPrice = orderBookUnits[0]['ask_price']\n",
    "        return float(askPrice)\n",
    "    else :\n",
    "        return -1"
   ]
  },
  {
   "cell_type": "code",
   "execution_count": null,
   "id": "223b0c86",
   "metadata": {},
   "outputs": [],
   "source": [
    "price = getAskPrice('BTC')\n",
    "print(price)"
   ]
  },
  {
   "cell_type": "code",
   "execution_count": null,
   "id": "d5fad88f",
   "metadata": {},
   "outputs": [],
   "source": [
    "def getCoinAmount(coin):\n",
    "    payload = {\n",
    "        'access_key': ACCESS_KEY,\n",
    "        'nonce': str(uuid.uuid4()),\n",
    "    }\n",
    "\n",
    "    jwt_token = jwt.encode(payload, SECRET_KEY)\n",
    "    authorize_token = 'Bearer {}'.format(jwt_token)\n",
    "    headers = {\"Authorization\": authorize_token}\n",
    "\n",
    "    res = requests.get(SERVER_URL + \"/v1/accounts\", headers=headers)\n",
    "    \n",
    "    for asset in res.json():\n",
    "        if asset['currency'] == coin:\n",
    "            return float(asset['balance'])\n",
    "\n",
    "    return -1"
   ]
  },
  {
   "cell_type": "code",
   "execution_count": null,
   "id": "32dcb4c9",
   "metadata": {},
   "outputs": [],
   "source": [
    "getCoinAmount('TRX')"
   ]
  },
  {
   "cell_type": "code",
   "execution_count": null,
   "id": "ee2e26d4",
   "metadata": {},
   "outputs": [],
   "source": [
    "def bid(coin, price) :\n",
    "    query = {\n",
    "        'market': 'KRW-' + coin,\n",
    "        'side': 'bid',  # buy\n",
    "        #'volume': '0.01',\n",
    "        'price': str(price),\n",
    "        'ord_type': 'price', # buy\n",
    "    }\n",
    "    query_string = urlencode(query).encode()\n",
    "\n",
    "    m = hashlib.sha512()\n",
    "    m.update(query_string)\n",
    "    query_hash = m.hexdigest()\n",
    "\n",
    "    payload = {\n",
    "        'access_key': ACCESS_KEY,\n",
    "        'nonce': str(uuid.uuid4()),\n",
    "        'query_hash': query_hash,\n",
    "        'query_hash_alg': 'SHA512',\n",
    "    }\n",
    "\n",
    "    jwt_token = jwt.encode(payload, SECRET_KEY)\n",
    "    authorize_token = 'Bearer {}'.format(jwt_token)\n",
    "    headers = {\"Authorization\": authorize_token}\n",
    "\n",
    "    res = requests.post(SERVER_URL+'/v1/orders', params=query, headers=headers)\n",
    "    print(res)"
   ]
  },
  {
   "cell_type": "code",
   "execution_count": null,
   "id": "f5a83f0e",
   "metadata": {},
   "outputs": [],
   "source": [
    "bid('ETH', 20000)"
   ]
  },
  {
   "cell_type": "code",
   "execution_count": null,
   "id": "289f4507",
   "metadata": {},
   "outputs": [],
   "source": [
    "def ask(coin, volume) :\n",
    "    query = {\n",
    "        'market': 'KRW-' + coin,\n",
    "        'side': 'ask',  # sell\n",
    "        'volume': str(volume),\n",
    "        #'price': '100000',\n",
    "        'ord_type': 'market', # sell\n",
    "    }\n",
    "    query_string = urlencode(query).encode()\n",
    "\n",
    "    m = hashlib.sha512()\n",
    "    m.update(query_string)\n",
    "    query_hash = m.hexdigest()\n",
    "\n",
    "    payload = {\n",
    "        'access_key': ACCESS_KEY,\n",
    "        'nonce': str(uuid.uuid4()),\n",
    "        'query_hash': query_hash,\n",
    "        'query_hash_alg': 'SHA512',\n",
    "    }\n",
    "\n",
    "    jwt_token = jwt.encode(payload, SECRET_KEY)\n",
    "    authorize_token = 'Bearer {}'.format(jwt_token)\n",
    "    headers = {\"Authorization\": authorize_token}\n",
    "    \n",
    "    res = requests.post(SERVER_URL+'/v1/orders', params=query, headers=headers)\n",
    "    print(res)"
   ]
  },
  {
   "cell_type": "code",
   "execution_count": null,
   "id": "b0f4df17",
   "metadata": {},
   "outputs": [],
   "source": [
    "volume = getCoinAmount('ETH')\n",
    "ask('ETH', volume)"
   ]
  }
 ],
 "metadata": {
  "kernelspec": {
   "display_name": "pythonProject",
   "language": "python",
   "name": "pythonproject"
  },
  "language_info": {
   "codemirror_mode": {
    "name": "ipython",
    "version": 3
   },
   "file_extension": ".py",
   "mimetype": "text/x-python",
   "name": "python",
   "nbconvert_exporter": "python",
   "pygments_lexer": "ipython3",
   "version": "3.9.7"
  }
 },
 "nbformat": 4,
 "nbformat_minor": 5
}
