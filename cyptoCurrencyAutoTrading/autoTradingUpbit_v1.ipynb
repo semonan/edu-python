{
 "cells": [
  {
   "cell_type": "code",
   "execution_count": 182,
   "id": "5c31281f",
   "metadata": {},
   "outputs": [],
   "source": [
    "import os\n",
    "import uuid\n",
    "import hashlib\n",
    "from urllib.parse import urlencode\n",
    "import requests\n",
    "from pprint import pprint\n",
    "import jwt\n",
    "from sklearn.linear_model import LinearRegression\n",
    "import matplotlib.pyplot as plt\n",
    "import time\n",
    "import numpy as np\n",
    "from IPython.display import clear_output\n"
   ]
  },
  {
   "cell_type": "code",
   "execution_count": null,
   "id": "6ce64347",
   "metadata": {},
   "outputs": [],
   "source": [
    "ACCESS_KEY = 'your access key'\n",
    "SECRET_KEY = 'your secret key'\n",
    "SERVER_URL = 'https://api.upbit.com'"
   ]
  },
  {
   "cell_type": "code",
   "execution_count": 153,
   "id": "5c446d2b",
   "metadata": {},
   "outputs": [],
   "source": [
    "def getAskPrice(coin):\n",
    "    queryString = {\"markets\":\"KRW-\"+coin}\n",
    "    headers = {\"Accept\": \"application/json\"}\n",
    "\n",
    "    response = requests.request(\"GET\", SERVER_URL+'/v1/orderbook', headers=headers, params=queryString)\n",
    "\n",
    "    HTTP_OK = 200\n",
    "    if response.status_code == HTTP_OK:\n",
    "        #pprint(response.json())\n",
    "        orderBookUnits = response.json()[0]['orderbook_units']\n",
    "        askPrice = orderBookUnits[0]['ask_price']\n",
    "        return float(askPrice)\n",
    "    else :\n",
    "        return -1"
   ]
  },
  {
   "cell_type": "code",
   "execution_count": null,
   "id": "223b0c86",
   "metadata": {},
   "outputs": [],
   "source": [
    "price = getAskPrice('BTC')\n",
    "print(price)"
   ]
  },
  {
   "cell_type": "code",
   "execution_count": null,
   "id": "d5fad88f",
   "metadata": {},
   "outputs": [],
   "source": [
    "def getCoinAmount(coin):\n",
    "    payload = {\n",
    "        'access_key': ACCESS_KEY,\n",
    "        'nonce': str(uuid.uuid4()),\n",
    "    }\n",
    "\n",
    "    jwt_token = jwt.encode(payload, SECRET_KEY)\n",
    "    authorize_token = 'Bearer {}'.format(jwt_token)\n",
    "    headers = {\"Authorization\": authorize_token}\n",
    "\n",
    "    res = requests.get(SERVER_URL + \"/v1/accounts\", headers=headers)\n",
    "    \n",
    "    for asset in res.json():\n",
    "        if asset['currency'] == coin:\n",
    "            return float(asset['balance'])\n",
    "\n",
    "    return -1"
   ]
  },
  {
   "cell_type": "code",
   "execution_count": null,
   "id": "32dcb4c9",
   "metadata": {},
   "outputs": [],
   "source": [
    "getCoinAmount('TRX')"
   ]
  },
  {
   "cell_type": "code",
   "execution_count": null,
   "id": "ee2e26d4",
   "metadata": {},
   "outputs": [],
   "source": [
    "def bid(coin, price) :\n",
    "    query = {\n",
    "        'market': 'KRW-' + coin,\n",
    "        'side': 'bid',  # buy\n",
    "        #'volume': '0.01',\n",
    "        'price': str(price),\n",
    "        'ord_type': 'price', # buy\n",
    "    }\n",
    "    query_string = urlencode(query).encode()\n",
    "\n",
    "    m = hashlib.sha512()\n",
    "    m.update(query_string)\n",
    "    query_hash = m.hexdigest()\n",
    "\n",
    "    payload = {\n",
    "        'access_key': ACCESS_KEY,\n",
    "        'nonce': str(uuid.uuid4()),\n",
    "        'query_hash': query_hash,\n",
    "        'query_hash_alg': 'SHA512',\n",
    "    }\n",
    "\n",
    "    jwt_token = jwt.encode(payload, SECRET_KEY)\n",
    "    authorize_token = 'Bearer {}'.format(jwt_token)\n",
    "    headers = {\"Authorization\": authorize_token}\n",
    "\n",
    "    res = requests.post(SERVER_URL+'/v1/orders', params=query, headers=headers)\n",
    "    print(res)"
   ]
  },
  {
   "cell_type": "code",
   "execution_count": null,
   "id": "f5a83f0e",
   "metadata": {},
   "outputs": [],
   "source": [
    "bid('ETH', 20000)"
   ]
  },
  {
   "cell_type": "code",
   "execution_count": null,
   "id": "289f4507",
   "metadata": {},
   "outputs": [],
   "source": [
    "def ask(coin, volume) :\n",
    "    query = {\n",
    "        'market': 'KRW-' + coin,\n",
    "        'side': 'ask',  # sell\n",
    "        'volume': str(volume),\n",
    "        #'price': '100000',\n",
    "        'ord_type': 'market', # sell\n",
    "    }\n",
    "    query_string = urlencode(query).encode()\n",
    "\n",
    "    m = hashlib.sha512()\n",
    "    m.update(query_string)\n",
    "    query_hash = m.hexdigest()\n",
    "\n",
    "    payload = {\n",
    "        'access_key': ACCESS_KEY,\n",
    "        'nonce': str(uuid.uuid4()),\n",
    "        'query_hash': query_hash,\n",
    "        'query_hash_alg': 'SHA512',\n",
    "    }\n",
    "\n",
    "    jwt_token = jwt.encode(payload, SECRET_KEY)\n",
    "    authorize_token = 'Bearer {}'.format(jwt_token)\n",
    "    headers = {\"Authorization\": authorize_token}\n",
    "    \n",
    "    res = requests.post(SERVER_URL+'/v1/orders', params=query, headers=headers)\n",
    "    print(res)"
   ]
  },
  {
   "cell_type": "code",
   "execution_count": null,
   "id": "b0f4df17",
   "metadata": {},
   "outputs": [],
   "source": [
    "volume = getCoinAmount('ETH')\n",
    "ask('ETH', volume)"
   ]
  },
  {
   "cell_type": "code",
   "execution_count": null,
   "id": "a5ac5065",
   "metadata": {},
   "outputs": [],
   "source": []
  },
  {
   "cell_type": "code",
   "execution_count": null,
   "id": "28417af3",
   "metadata": {},
   "outputs": [],
   "source": []
  },
  {
   "cell_type": "code",
   "execution_count": 108,
   "id": "f962675d",
   "metadata": {},
   "outputs": [
    {
     "data": {
      "image/png": "[encoded data removed]",
      "text/plain": [
       "<Figure size 432x288 with 1 Axes>"
      ]
     },
     "metadata": {
      "needs_background": "light"
     },
     "output_type": "display_data"
    }
   ],
   "source": [
    "T = [[1],[2],[3],[4],[5]]\n",
    "y = [2,5,6,10,15]\n",
    "\n",
    "plt.scatter(T,y)\n",
    "plt.show()"
   ]
  },
  {
   "cell_type": "code",
   "execution_count": 143,
   "id": "5d97794d",
   "metadata": {},
   "outputs": [
    {
     "name": "stdout",
     "output_type": "stream",
     "text": [
      "w: 3.1\n",
      "b: -1.7\n"
     ]
    }
   ],
   "source": [
    "linReg = LinearRegression()\n",
    "linReg.fit(T, y)\n",
    "\n",
    "# y = wt + b\n",
    "w = round(linReg.coef_[0],3)\n",
    "b = round(linReg.intercept_,3)\n",
    "print('w: ' + str(w))\n",
    "print('b: ' + str(b))\n"
   ]
  },
  {
   "cell_type": "code",
   "execution_count": 145,
   "id": "110baf7a",
   "metadata": {},
   "outputs": [
    {
     "data": {
      "image/png": "[encoded data removed]",
      "text/plain": [
       "<Figure size 432x288 with 1 Axes>"
      ]
     },
     "metadata": {
      "needs_background": "light"
     },
     "output_type": "display_data"
    }
   ],
   "source": [
    "y_past = []\n",
    "y_past.append( w * T[0][0] + b )\n",
    "y_past.append( w * T[1][0] + b )\n",
    "y_past.append( w * T[2][0] + b )\n",
    "y_past.append( w * T[3][0] + b )\n",
    "y_past.append( w * T[4][0] + b )\n",
    "\n",
    "t_pred = [[6],[7]]\n",
    "y_pred = []\n",
    "y_pred.append( w * t_pred[0][0] + b )\n",
    "y_pred.append( w * t_pred[1][0] + b )\n",
    "\n",
    "plt.scatter(T,y)  # past\n",
    "plt.plot(T,y_past, 'r')\n",
    "plt.scatter(t_pred, y_pred) # predict\n",
    "plt.show()"
   ]
  },
  {
   "cell_type": "code",
   "execution_count": 138,
   "id": "38cc8512",
   "metadata": {},
   "outputs": [
    {
     "name": "stdout",
     "output_type": "stream",
     "text": [
      "a: 16.900000000000002\n",
      "b: [16.9]\n"
     ]
    }
   ],
   "source": [
    "a = w * 6 + b\n",
    "print('a: ' + str(a))\n",
    "\n",
    "b = linReg.predict([[6]])\n",
    "print('b: ' + str(b))"
   ]
  },
  {
   "cell_type": "code",
   "execution_count": null,
   "id": "63caebba",
   "metadata": {},
   "outputs": [],
   "source": []
  },
  {
   "cell_type": "code",
   "execution_count": null,
   "id": "b9172847",
   "metadata": {},
   "outputs": [],
   "source": []
  },
  {
   "cell_type": "code",
   "execution_count": null,
   "id": "9b4f3ffd",
   "metadata": {},
   "outputs": [],
   "source": [
    "COIN = 'AXS'\n",
    "INTERVAL_SEC = 3\n",
    "y_SIZE = 60\n",
    "T = [[i] for i in range(y_SIZE)]\n",
    "\n",
    "y = []\n",
    "\n",
    "linReg = LinearRegression()\n",
    "\n",
    "while True:\n",
    "    time.sleep(INTERVAL_SEC)\n",
    "    \n",
    "    price = getAskPrice(COIN)\n",
    "    y.append(price)\n",
    "    \n",
    "    if len(y) < y_SIZE:\n",
    "        print(y, end='\\r', flush=True)\n",
    "        continue\n",
    "        \n",
    "    linReg.fit(T, y)\n",
    "    y_pred = linReg.predict([[y_SIZE]])\n",
    "    \n",
    "    # Add your logic !\n",
    "    # ask() , bid()\n",
    "    \n",
    "    clear_output(wait=True)\n",
    "    \n",
    "    print('y_pred: ' + str(y_pred))\n",
    "    print(y)\n",
    "    plt.ylim(price*0.995, price*1.005)\n",
    "    plt.scatter(T, y) # past\n",
    "    plt.scatter(y_SIZE, y_pred) # predicted\n",
    "    plt.show()\n",
    "    \n",
    "    y.pop(0)\n"
   ]
  },
  {
   "cell_type": "code",
   "execution_count": null,
   "id": "08fc83cc",
   "metadata": {},
   "outputs": [],
   "source": []
  }
 ],
 "metadata": {
  "kernelspec": {
   "display_name": "pythonProject",
   "language": "python",
   "name": "pythonproject"
  },
  "language_info": {
   "codemirror_mode": {
    "name": "ipython",
    "version": 3
   },
   "file_extension": ".py",
   "mimetype": "text/x-python",
   "name": "python",
   "nbconvert_exporter": "python",
   "pygments_lexer": "ipython3",
   "version": "3.9.7"
  }
 },
 "nbformat": 4,
 "nbformat_minor": 5
}
